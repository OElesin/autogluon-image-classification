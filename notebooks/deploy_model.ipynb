{
 "cells": [
  {
   "cell_type": "code",
   "execution_count": null,
   "metadata": {},
   "outputs": [],
   "source": [
    "# !pip install 'sagemaker[local]' sagemaker --upgrade "
   ]
  },
  {
   "cell_type": "code",
   "execution_count": 5,
   "metadata": {},
   "outputs": [],
   "source": [
    "import sagemaker\n",
    "from sagemaker.estimator import Estimator\n",
    "from sagemaker import get_execution_role\n",
    "from sagemaker.predictor import csv_serializer, json_serializer\n",
    "\n",
    "\n",
    "sess = sagemaker.Session()\n",
    "role = 'arn:aws:iam::514965996716:role/service-role/AmazonSageMaker-ExecutionRole-20181229T135829'# get_execution_role()\n",
    "account = sess.boto_session.client('sts').get_caller_identity()['Account']\n",
    "region = sess.boto_session.region_name"
   ]
  },
  {
   "cell_type": "code",
   "execution_count": 6,
   "metadata": {},
   "outputs": [],
   "source": [
    "training_data = 's3://sagemaker-eu-west-1-514965996716/data/plant-disease-dataset/train'\n",
    "test_data = 's3://sagemaker-eu-west-1-514965996716/data/plant-disease-dataset/valid'"
   ]
  },
  {
   "cell_type": "code",
   "execution_count": 10,
   "metadata": {},
   "outputs": [],
   "source": [
    "image = '514965996716.dkr.ecr.eu-west-1.amazonaws.com/autogluon-image-classification'\n",
    "\n",
    "sm_model = Estimator(\n",
    "    image_name=image,\n",
    "    role=role, \n",
    "    train_instance_count=1, \n",
    "    train_instance_type='ml.p2.xlarge',\n",
    "    hyperparameters={'epochs': 2, 'ngpus-per-trial': 1},\n",
    "    sagemaker_session=sess,\n",
    "    train_use_spot_instances=True,\n",
    "    train_max_wait=7200,\n",
    "    train_volume_size=100,\n",
    "    train_max_run=7200,\n",
    ")"
   ]
  },
  {
   "cell_type": "code",
   "execution_count": 11,
   "metadata": {
    "scrolled": true
   },
   "outputs": [
    {
     "name": "stdout",
     "output_type": "stream",
     "text": [
      "2020-03-07 11:28:16 Starting - Starting the training job...\n",
      "2020-03-07 11:28:18 Starting - Launching requested ML instances...\n",
      "2020-03-07 11:29:16 Starting - Preparing the instances for training............\n",
      "2020-03-07 11:30:56 Downloading - Downloading input data..............................................................................\n",
      "2020-03-07 11:44:38 Training - Downloading the training image.....\u001b[34m/usr/local/lib/python3.7/site-packages/mxnet/optimizer/optimizer.py:167: UserWarning: WARNING: New optimizer gluonnlp.optimizer.lamb.LAMB is overriding existing optimizer mxnet.optimizer.optimizer.LAMB\n",
      "  Optimizer.opt_registry[name].__name__))\u001b[0m\n",
      "\u001b[34mImages Classes: ['Citrus Mosaic 1', 'Cherry_(including_sour)___Powdery_mildew', 'Black Pepper Phytophthora Foot Rot 1', 'Citrus Alternaria Brown Spot 1', 'Dry Bean Phytotoxicity 1', 'Soybean Cercospora Blight Cropped', 'Melon Bacterial Fruit Blotch 1', 'Orange___Haunglongbing_(Citrus_greening)', 'Corn Physoderma Brown Spot Cropped', 'Sugarcane Rust 1', 'Coffee Damping Off 1', 'Wheat Rust 1', 'Cashew Tree Algae 1', 'Dry Bean Rust 1', 'Cassava Leaf Galls 1', 'Tomato___healthy', 'Coconut Tree Lixa Pequena Cropped', 'Sugarcane Rust Cropped', 'Dry Bean Bacterial Spot Cropped', 'Tomato___Spider_mites Two-spotted_spider_mite', 'Corn Southern Corn Leaf Blight 1', 'Grape___healthy', 'Passion Fruit Mosaic Virus 1', 'Citrus Scab 1', 'Corn Northern Leaf Blight Cropped', 'Cotton Areolate Mildew Cropped', 'Palma de Oleo (Oil Palm) - Podridão de Thielaviopsis (Thielaviopsis rot) - 1', 'Cashew Tree Powdery Mildew Cropped', 'Blueberry___healthy', 'Soybean Rust And Target Spot 1', 'Wheat Wheat Blast Cropped', 'Corn_(maize)___healthy', 'Soybean Southern Blight 1', 'Pineapple Black Rot 1', 'Citrus Nutritional Deficiency 1', 'Melon Powdery Mildew Cropped', 'Soybean Soybean Mosaic Virus 1', 'Coconut Tree Lixa Grande 1', 'Soybean Southern Blight Cropped', 'Cashew Tree Anthracnose Cropped', 'Cabbage Powdery Mildew 1', 'Tomato___Tomato_mosaic_virus', 'Passion Fruit Woodiness Virus 1', 'Black Pepper White-Thread Blight 1', 'Soybean Downy Mildew Cropped', 'Coconut Tree Phytotoxicity 1', 'Cassava Green Mite Cropped', 'Corn Tropical Rust 1', 'Milho (Corn) - Ferrugem_Polissora (Southern corn rust) - 1', 'Potato___Early_blight', 'Dry Bean Powdery Mildew Cropped', 'Citrus Citrus Canker Cropped', 'Squash___Powdery_mildew', 'Soybean Rust Cropped', 'Tomato___Tomato_Yellow_Leaf_Curl_Virus', 'Coffee Leaf Miner 1', 'Grapevine Bacterial Canker 1', 'Cashew Tree Algae Cropped', 'Oil Palm Black Sooty Mold Cropped', 'Soybean Downy Mildew 1', 'Cupuacu Witches Broom 1', 'Citrus Leprosis Cropped', 'Papaya Mosaic Virus 1', 'Wheat Tan Spot Cropped', 'Cashew Tree Anthracnose 2', 'Cassava Bacterial Blight Cropped', 'Papaya Anthracnose 1', 'Soybean Unknown 1', 'Rice Leaf Scald Cropped', 'Coconut Tree Sooty Mold 1', 'Soybean Rust 1', 'Coffee Healthy 1', 'Cassava Powdery Mildew Cropped', 'Cashew Tree Powdery Mildew 1', 'Citrus Sooty Mold Cropped', 'Coffee Leaf Miner Cropped', 'Soybean Copper Phytotoxicity 1', 'Coconut Tree Whitefly Cropped', 'Peach___healthy', 'Citrus Citrus Greasy Spot Cropped', 'Potato___healthy', 'Corn Northern Leaf Blight 1', 'Citrus Citrus Variegated Chlorosis Cropped', 'Black Pepper Yellow Wilt 1', 'Cotton Soreshin Cropped', 'Soybean Anthracnose 1', 'Coconut Tree Premature Fruit Drop 1', 'Café (Coffee) - Ferrugem (Rust) - Cropped', 'Passion Fruit Bacterial Spot 1', 'Coconut Tree Whitefly 1', 'Citrus Algae Cropped', 'Coconut Tree Cylindrocladium Leaf Spot Cropped', 'Cabbage Alternaria Leaf Spot Cropped', 'Grape___Leaf_blight_(Isariopsis_Leaf_Spot)', 'Black Pepper Healthy 1', 'Apple___Apple_scab', 'Coconut Tree Aceria Guerreronis 1', 'Citrus Halo Blight Cropped', 'Dry Bean Web Blight 1', 'Cashew Tree Anthracnose 1', 'Cherry_(including_sour)___healthy', 'Coffee Pellicularia Koleroga 1', 'Apple___healthy', 'Cabbage Alternaria Leaf Spot 1', 'Sugarcane Red Stripe 1', 'Rice Leaf Scald 1', 'Cassava White Leaf Spot And Brown Leaf Spot 1', 'Coconut Tree Steneotarsonemus Furcatus 1', 'Soybean Myrothecium Leaf Spot Cropped', 'Corn_(maize)___Cercospora_leaf_spot Gray_leaf_spot', 'Cotton Areolate Mildew 1', 'Citrus Scab Cropped', 'Melon Powdery Mildew 1', 'Citrus Penicillium 1', 'Grapevine Grapevine Fanleaf Virus Cropped', 'Dry Bean Hedylepta Indicata Cropped', 'Sugarcane Ring Spot 1', 'Coconut Tree Coconut Scale Cropped', 'Citrus Algae 1', 'Cashew Tree Black Mould 1', 'Papaya Smallpox 1', 'Sugarcane Healthy 1', 'Pineapple Fusariose 1', 'Corn Phaeosphaeria Leaf Spot 1', 'Corn Anthracnose 1', 'Cashew Tree Gummosis 1', 'Wheat Rust Cropped', 'Passion Fruit Cercospora Leaf Spot 1', 'Dry Bean Cercospora Leaf Spot Cropped', 'Soybean Cercospora Blight 1', 'Cotton Myrothecium Leaf Spot 1', 'Passion Fruit Cercospora Leaf Spot Cropped', 'Passion Fruit Scab 1', 'Grapevine Isariopsis Leaf Spot Cropped', 'Oil Palm Red Ring 1', 'Citrus Citrus Greasy Spot 1', 'Cassava Bacterial Blight 1', 'Soybean Copper Phytotoxicity Cropped', 'Dry Bean Cercospora Leaf Spot 1', 'Soybean Healthy 1', 'Coconut Tree Lixa Grande Cropped', 'Passion Fruit Senescence 1', 'Sugarcane Red Stripe Cropped', 'Cassava Green Mite 1', 'Coffee Blister Spot 1', 'Passion Fruit Septoria Spot 1', 'Dry Bean Powdery Mildew 1', 'Citrus Mosaic Cropped', 'Coffee Brown Leaf Spot Cropped', 'Grape___Esca_(Black_Measles)', 'Rice Rice Blast Cropped', 'Dry Bean Bacterial Spot 1', 'Dry Bean Phytotoxicity Cropped', 'Coconut Tree Dreschslera Incurvata 1', 'Tomato___Bacterial_spot', 'Dry Bean Hedylepta Indicata 1', 'Citrus Alternaria Brown Spot Cropped', 'Pepper,_bell___Bacterial_spot', 'Dry Bean Common Bacterial Blight 1', 'Grapevine Rust 1', 'Coffee Rust 1', 'Peach___Bacterial_spot', 'Tomato___Late_blight', 'Tomato___Early_blight', 'Coconut Tree Coconut Rot 1', 'Soybean Phytophora Rot 1', 'Passion Fruit Dione Juno Juno 1', 'Dry Bean Anthracnose Cropped', 'Soybean Soybean Mosaic Virus Cropped', 'Citrus Black Spot 1', 'Wheat Healthy 1', 'Potato___Late_blight', 'Soja (Soybean) - Mancha Alvo (Southern blight) - 1', 'Soybean Powdery Mildew Cropped', 'Grapevine Grapevine Fanleaf Virus 1', 'Grapevine Powdery Mildew Cropped', 'Dry Bean Bean Golden Mosaic 1', 'Citrus Citrus Variegated Chlorosis 1', 'Dry Bean Anthracnose 1', 'Citrus Citrus Canker 1', 'Oil Palm Fusarium 1', 'Soybean Brown Spot 1', 'Coconut Tree Dreschslera Incurvata Cropped', 'Cashew Tree 1', 'Dry Bean Web Blight Cropped', 'Coconut Tree Coconut Leaf Blight 1', 'Cashew Tree Worm 1', 'Cashew Tree Gummosis Cropped', 'Citrus Halo Blight 1', 'Soybean___healthy', 'Corn Physoderma Brown Spot 1', 'Grape___Black_rot', 'Grapevine Healthy 1', 'Corn Diplodia Leaf Streak Cropped', 'Corn Bushy Stunt 1', 'Wheat Tan Spot 1', 'Cotton Soreshin 1', 'Citrus White-Thread Blight 1', 'Sugarcane Ring Spot Cropped', 'Soybean Charcoal Rot 1', 'Coconut Tree Stem Bleeding 1', 'Citrus Felt 1', 'Tomato___Septoria_leaf_spot', 'Coconut Tree Lixa Grande And Lixa Pequena 1', 'Grapevine Bacterial Canker Cropped', 'Cotton Myrothecium Leaf Spot Cropped', 'Coconut Tree Coconut Scale 1', 'Cana (Sugarcane) - Mancha Anelar e Mosca Branca (Ring Spot and White Fly) - 1', 'Dry Bean Healthy 1', 'Coffee Blister Spot Cropped', 'Coconut Tree Cylindrocladium Leaf Spot 1', 'Pineapple Pineapple Fruit Borer 1', 'Dry Bean Target Leaf Spot 1', 'Citrus Postbloom Fruit Drop Of Citrus 1', 'Wheat Powdery Mildew 1', 'Grapevine Downy Mildew 2', 'Corn Phaeosphaeria Leaf Spot Cropped', 'Corn Southern Corn Rust Cropped', 'Cashew Tree Angular Leaf Spot 1', 'Coffee Cercospora Leaf Spot Cropped', 'Coffee Cercospora Leaf Spot And Rust 1', 'Coffee Bacterial Blight Cropped', 'Passion Fruit Anthracnose Cropped', 'Citrus Leprosis 1', 'Strawberry___healthy', 'Coconut Tree Caterpillar Damage 1', 'Pepper,_bell___healthy', 'Corn_(maize)___Common_rust_', 'Soybean Bacterial Blight 1', 'Cassava Brown Leaf Spot Cropped', 'Grapevine Downy Mildew 1', 'Passion Fruit Anthracnose 1', 'Cashew Tree Black Mould Cropped', 'Passion Fruit Base Rot 1', 'Cabbage Powdery Mildew Cropped', 'Apple___Cedar_apple_rust', 'Wheat Wheat Blast 1', 'Cassava Brown Leaf Spot 1', 'Grapevine Downy Mildew Cropped', 'Soybean Bacterial Blight Cropped', 'Corn Anthracnose Cropped', 'Cotton Fusarium Wilt 1', 'Raspberry___healthy', 'Tomato___Leaf_Mold', 'Cassava White Leaf Spot Cropped', 'Cashew Tree Angular Leaf Spot Cropped', 'Coqueiro (Coconut Tree) - Lixa pequena e queima (Lixa pequena and coconut leaf blight) - 1', 'Corn Tropical Rust Cropped', 'Soybean Myrothecium Leaf Spot 1', 'Soybean Powdery Mildew 1', 'Grapevine Powdery Mildew 1', 'Passion Fruit Septoria Spot Cropped', 'Coconut Tree Phytotoxicity Cropped', 'Cassava Leaf Galls Cropped', 'Cassava Cassava Vein Mosaic 1', 'Corn_(maize)___Northern_Leaf_Blight', 'Café (Coffee) - Mancha Aureolada (Bacterial Blight) - 1', 'Soybean Brown Spot Cropped', 'Cassava Root Rot 1', 'Grapevine Rust Cropped', 'Feijao (Dry bean) - Mancha Alvo (Target leaf spot) - Cropped', 'Wheat Powdery Mildew Cropped', 'Cassava Blight Leaf Spot Cropped', 'Coffee Cercospora Leaf Spot 1', 'Soybean Rhizoctonia Aerial Blight 1', 'Cassava Healthy 1', 'Corn Diplodia Leaf Streak 1', 'Corn Southern Corn Leaf Blight Cropped', 'Citrus Healthy 1', 'Citrus Sooty Mold 1', 'Passion Fruit Bacterial Spot Cropped', 'Apple___Black_rot', 'Coffee Brown Leaf Spot 1', 'Dry Bean Cowpea Mild Mottle Virus Cropped', 'Strawberry___Leaf_scorch', 'Coconut Tree Lixa Pequena 1', 'Tomato___Target_Spot', 'Rice Rice Blast 1', 'Dry Bean Cowpea Mild Mottle Virus 1', 'Dry Bean Rust Cropped', 'Corn Scab 1']\u001b[0m\n",
      "\u001b[34mException during training: '>' not supported between instances of 'str' and 'int'\u001b[0m\n",
      "\u001b[34mTraceback (most recent call last):\n",
      "  File \"/opt/program/train\", line 43, in train\n",
      "    output_directory=model_dir\n",
      "  File \"/usr/local/lib/python3.7/site-packages/autogluon/task/image_classification/image_classification.py\", line 243, in fit\n",
      "    ngpus_per_trial = get_gpu_count() if ngpus_per_trial > get_gpu_count() else ngpus_per_trial\u001b[0m\n",
      "\u001b[34mTypeError: '>' not supported between instances of 'str' and 'int'\n",
      "\u001b[0m\n"
     ]
    },
    {
     "name": "stdout",
     "output_type": "stream",
     "text": [
      "\n",
      "2020-03-07 11:45:50 Uploading - Uploading generated training model\n",
      "2020-03-07 11:46:36 Failed - Training job failed\n"
     ]
    },
    {
     "ename": "UnexpectedStatusException",
     "evalue": "Error for Training job autogluon-image-classification-2020-03-07-11-28-15-891: Failed. Reason: AlgorithmError: Exception during training: '>' not supported between instances of 'str' and 'int'\nTraceback (most recent call last):\n  File \"/opt/program/train\", line 43, in train\n    output_directory=model_dir\n  File \"/usr/local/lib/python3.7/site-packages/autogluon/task/image_classification/image_classification.py\", line 243, in fit\n    ngpus_per_trial = get_gpu_count() if ngpus_per_trial > get_gpu_count() else ngpus_per_trial\nTypeError: '>' not supported between instances of 'str' and 'int'\n",
     "output_type": "error",
     "traceback": [
      "\u001b[0;31m---------------------------------------------------------------------------\u001b[0m",
      "\u001b[0;31mUnexpectedStatusException\u001b[0m                 Traceback (most recent call last)",
      "\u001b[0;32m<ipython-input-11-b91dc1e09158>\u001b[0m in \u001b[0;36m<module>\u001b[0;34m\u001b[0m\n\u001b[0;32m----> 1\u001b[0;31m \u001b[0msm_model\u001b[0m\u001b[0;34m.\u001b[0m\u001b[0mfit\u001b[0m\u001b[0;34m(\u001b[0m\u001b[0;34m{\u001b[0m\u001b[0;34m'training'\u001b[0m\u001b[0;34m:\u001b[0m \u001b[0mtraining_data\u001b[0m\u001b[0;34m,\u001b[0m \u001b[0;34m'testing'\u001b[0m\u001b[0;34m:\u001b[0m \u001b[0mtest_data\u001b[0m\u001b[0;34m}\u001b[0m\u001b[0;34m)\u001b[0m\u001b[0;34m\u001b[0m\u001b[0;34m\u001b[0m\u001b[0m\n\u001b[0m",
      "\u001b[0;32m~/workspace/data-work/venv/lib/python3.7/site-packages/sagemaker/estimator.py\u001b[0m in \u001b[0;36mfit\u001b[0;34m(self, inputs, wait, logs, job_name, experiment_config)\u001b[0m\n\u001b[1;32m    462\u001b[0m         \u001b[0mself\u001b[0m\u001b[0;34m.\u001b[0m\u001b[0mjobs\u001b[0m\u001b[0;34m.\u001b[0m\u001b[0mappend\u001b[0m\u001b[0;34m(\u001b[0m\u001b[0mself\u001b[0m\u001b[0;34m.\u001b[0m\u001b[0mlatest_training_job\u001b[0m\u001b[0;34m)\u001b[0m\u001b[0;34m\u001b[0m\u001b[0;34m\u001b[0m\u001b[0m\n\u001b[1;32m    463\u001b[0m         \u001b[0;32mif\u001b[0m \u001b[0mwait\u001b[0m\u001b[0;34m:\u001b[0m\u001b[0;34m\u001b[0m\u001b[0;34m\u001b[0m\u001b[0m\n\u001b[0;32m--> 464\u001b[0;31m             \u001b[0mself\u001b[0m\u001b[0;34m.\u001b[0m\u001b[0mlatest_training_job\u001b[0m\u001b[0;34m.\u001b[0m\u001b[0mwait\u001b[0m\u001b[0;34m(\u001b[0m\u001b[0mlogs\u001b[0m\u001b[0;34m=\u001b[0m\u001b[0mlogs\u001b[0m\u001b[0;34m)\u001b[0m\u001b[0;34m\u001b[0m\u001b[0;34m\u001b[0m\u001b[0m\n\u001b[0m\u001b[1;32m    465\u001b[0m \u001b[0;34m\u001b[0m\u001b[0m\n\u001b[1;32m    466\u001b[0m     \u001b[0;32mdef\u001b[0m \u001b[0m_compilation_job_name\u001b[0m\u001b[0;34m(\u001b[0m\u001b[0mself\u001b[0m\u001b[0;34m)\u001b[0m\u001b[0;34m:\u001b[0m\u001b[0;34m\u001b[0m\u001b[0;34m\u001b[0m\u001b[0m\n",
      "\u001b[0;32m~/workspace/data-work/venv/lib/python3.7/site-packages/sagemaker/estimator.py\u001b[0m in \u001b[0;36mwait\u001b[0;34m(self, logs)\u001b[0m\n\u001b[1;32m   1060\u001b[0m         \u001b[0;31m# If logs are requested, call logs_for_jobs.\u001b[0m\u001b[0;34m\u001b[0m\u001b[0;34m\u001b[0m\u001b[0;34m\u001b[0m\u001b[0m\n\u001b[1;32m   1061\u001b[0m         \u001b[0;32mif\u001b[0m \u001b[0mlogs\u001b[0m \u001b[0;34m!=\u001b[0m \u001b[0;34m\"None\"\u001b[0m\u001b[0;34m:\u001b[0m\u001b[0;34m\u001b[0m\u001b[0;34m\u001b[0m\u001b[0m\n\u001b[0;32m-> 1062\u001b[0;31m             \u001b[0mself\u001b[0m\u001b[0;34m.\u001b[0m\u001b[0msagemaker_session\u001b[0m\u001b[0;34m.\u001b[0m\u001b[0mlogs_for_job\u001b[0m\u001b[0;34m(\u001b[0m\u001b[0mself\u001b[0m\u001b[0;34m.\u001b[0m\u001b[0mjob_name\u001b[0m\u001b[0;34m,\u001b[0m \u001b[0mwait\u001b[0m\u001b[0;34m=\u001b[0m\u001b[0;32mTrue\u001b[0m\u001b[0;34m,\u001b[0m \u001b[0mlog_type\u001b[0m\u001b[0;34m=\u001b[0m\u001b[0mlogs\u001b[0m\u001b[0;34m)\u001b[0m\u001b[0;34m\u001b[0m\u001b[0;34m\u001b[0m\u001b[0m\n\u001b[0m\u001b[1;32m   1063\u001b[0m         \u001b[0;32melse\u001b[0m\u001b[0;34m:\u001b[0m\u001b[0;34m\u001b[0m\u001b[0;34m\u001b[0m\u001b[0m\n\u001b[1;32m   1064\u001b[0m             \u001b[0mself\u001b[0m\u001b[0;34m.\u001b[0m\u001b[0msagemaker_session\u001b[0m\u001b[0;34m.\u001b[0m\u001b[0mwait_for_job\u001b[0m\u001b[0;34m(\u001b[0m\u001b[0mself\u001b[0m\u001b[0;34m.\u001b[0m\u001b[0mjob_name\u001b[0m\u001b[0;34m)\u001b[0m\u001b[0;34m\u001b[0m\u001b[0;34m\u001b[0m\u001b[0m\n",
      "\u001b[0;32m~/workspace/data-work/venv/lib/python3.7/site-packages/sagemaker/session.py\u001b[0m in \u001b[0;36mlogs_for_job\u001b[0;34m(self, job_name, wait, poll, log_type)\u001b[0m\n\u001b[1;32m   2995\u001b[0m \u001b[0;34m\u001b[0m\u001b[0m\n\u001b[1;32m   2996\u001b[0m         \u001b[0;32mif\u001b[0m \u001b[0mwait\u001b[0m\u001b[0;34m:\u001b[0m\u001b[0;34m\u001b[0m\u001b[0;34m\u001b[0m\u001b[0m\n\u001b[0;32m-> 2997\u001b[0;31m             \u001b[0mself\u001b[0m\u001b[0;34m.\u001b[0m\u001b[0m_check_job_status\u001b[0m\u001b[0;34m(\u001b[0m\u001b[0mjob_name\u001b[0m\u001b[0;34m,\u001b[0m \u001b[0mdescription\u001b[0m\u001b[0;34m,\u001b[0m \u001b[0;34m\"TrainingJobStatus\"\u001b[0m\u001b[0;34m)\u001b[0m\u001b[0;34m\u001b[0m\u001b[0;34m\u001b[0m\u001b[0m\n\u001b[0m\u001b[1;32m   2998\u001b[0m             \u001b[0;32mif\u001b[0m \u001b[0mdot\u001b[0m\u001b[0;34m:\u001b[0m\u001b[0;34m\u001b[0m\u001b[0;34m\u001b[0m\u001b[0m\n\u001b[1;32m   2999\u001b[0m                 \u001b[0mprint\u001b[0m\u001b[0;34m(\u001b[0m\u001b[0;34m)\u001b[0m\u001b[0;34m\u001b[0m\u001b[0;34m\u001b[0m\u001b[0m\n",
      "\u001b[0;32m~/workspace/data-work/venv/lib/python3.7/site-packages/sagemaker/session.py\u001b[0m in \u001b[0;36m_check_job_status\u001b[0;34m(self, job, desc, status_key_name)\u001b[0m\n\u001b[1;32m   2589\u001b[0m                 ),\n\u001b[1;32m   2590\u001b[0m                 \u001b[0mallowed_statuses\u001b[0m\u001b[0;34m=\u001b[0m\u001b[0;34m[\u001b[0m\u001b[0;34m\"Completed\"\u001b[0m\u001b[0;34m,\u001b[0m \u001b[0;34m\"Stopped\"\u001b[0m\u001b[0;34m]\u001b[0m\u001b[0;34m,\u001b[0m\u001b[0;34m\u001b[0m\u001b[0;34m\u001b[0m\u001b[0m\n\u001b[0;32m-> 2591\u001b[0;31m                 \u001b[0mactual_status\u001b[0m\u001b[0;34m=\u001b[0m\u001b[0mstatus\u001b[0m\u001b[0;34m,\u001b[0m\u001b[0;34m\u001b[0m\u001b[0;34m\u001b[0m\u001b[0m\n\u001b[0m\u001b[1;32m   2592\u001b[0m             )\n\u001b[1;32m   2593\u001b[0m \u001b[0;34m\u001b[0m\u001b[0m\n",
      "\u001b[0;31mUnexpectedStatusException\u001b[0m: Error for Training job autogluon-image-classification-2020-03-07-11-28-15-891: Failed. Reason: AlgorithmError: Exception during training: '>' not supported between instances of 'str' and 'int'\nTraceback (most recent call last):\n  File \"/opt/program/train\", line 43, in train\n    output_directory=model_dir\n  File \"/usr/local/lib/python3.7/site-packages/autogluon/task/image_classification/image_classification.py\", line 243, in fit\n    ngpus_per_trial = get_gpu_count() if ngpus_per_trial > get_gpu_count() else ngpus_per_trial\nTypeError: '>' not supported between instances of 'str' and 'int'\n"
     ]
    }
   ],
   "source": [
    "sm_model.fit({'training': training_data, 'testing': test_data})"
   ]
  },
  {
   "cell_type": "code",
   "execution_count": null,
   "metadata": {},
   "outputs": [],
   "source": [
    "predictor = sm_model.deploy(1, 'ml.m4.xlarge', serializer=json_serializer)"
   ]
  },
  {
   "cell_type": "code",
   "execution_count": null,
   "metadata": {},
   "outputs": [],
   "source": [
    "import pandas as pd\n",
    "import json\n",
    "import io"
   ]
  },
  {
   "cell_type": "code",
   "execution_count": null,
   "metadata": {},
   "outputs": [],
   "source": [
    "df = pd.read_csv('s3://datafy-data-lake-public-artifacts/Inc/test.csv')"
   ]
  },
  {
   "cell_type": "code",
   "execution_count": null,
   "metadata": {},
   "outputs": [],
   "source": [
    "data = df.head()[['age', 'workclass', 'fnlwgt', 'education', 'education-num',\n",
    "       'marital-status', 'occupation', 'relationship', 'race', 'sex',\n",
    "       'capital-gain', 'capital-loss', 'hours-per-week', 'native-country']]"
   ]
  },
  {
   "cell_type": "code",
   "execution_count": null,
   "metadata": {
    "scrolled": true
   },
   "outputs": [],
   "source": [
    "record = data.head(1).T.to_dict()[0]\n",
    "\n",
    "payload = json.dumps(record)"
   ]
  },
  {
   "cell_type": "code",
   "execution_count": null,
   "metadata": {
    "scrolled": false
   },
   "outputs": [],
   "source": [
    "d = predictor.predict(payload)"
   ]
  },
  {
   "cell_type": "code",
   "execution_count": null,
   "metadata": {
    "scrolled": true
   },
   "outputs": [],
   "source": [
    "predictor.delete_endpoint()"
   ]
  },
  {
   "cell_type": "code",
   "execution_count": null,
   "metadata": {},
   "outputs": [],
   "source": []
  }
 ],
 "metadata": {
  "kernelspec": {
   "display_name": "Python 3",
   "language": "python",
   "name": "python3"
  },
  "language_info": {
   "codemirror_mode": {
    "name": "ipython",
    "version": 3
   },
   "file_extension": ".py",
   "mimetype": "text/x-python",
   "name": "python",
   "nbconvert_exporter": "python",
   "pygments_lexer": "ipython3",
   "version": "3.7.3"
  }
 },
 "nbformat": 4,
 "nbformat_minor": 1
}
